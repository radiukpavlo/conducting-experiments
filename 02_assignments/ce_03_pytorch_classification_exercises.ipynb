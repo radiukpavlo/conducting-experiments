{
 "cells": [
  {
   "cell_type": "markdown",
   "metadata": {},
   "source": [
    "<h1><center>Laboratory work 3.</center></h1>\n",
    "<h2><center>PyTorch Classification Exercises</center></h2>"
   ]
  },
  {
   "cell_type": "markdown",
   "metadata": {},
   "source": [
    "**Виконав:** Last name and First name\n",
    "\n",
    "**Варіант:** #__"
   ]
  },
  {
   "cell_type": "markdown",
   "metadata": {},
   "source": [
    "<a class=\"anchor\" id=\"3\"></a>"
   ]
  },
  {
   "cell_type": "markdown",
   "metadata": {},
   "source": [
    "## Content\n",
    "\n",
    "1. [Task 1. Make a binary classification dataset with a Scikit-Learn's function.](#3.1)\n",
    "2. [Task 2. Build a model by subclassing `nn.Module`.](#3.2)\n",
    "3. [Task 3. Set up a binary classification compatible loss function and optimizer.](#3.3)\n",
    "4. [Task 4. Create a training and testing loop to fit the model you created in Task 2 to the data you created in Task 1.](#3.4)\n",
    "5. [Task 5. Make predictions with your trained model and plot them using the `plot_decision_boundary()` function predefined in this notebook.](#3.5)\n",
    "6. [Task 6. Replicate an activation function in pure PyTorch.](#3.6)\n",
    "7. [Task 7. Create a multi-class dataset using the spirals data creation function from CS231n.](#3.7)"
   ]
  },
  {
   "cell_type": "code",
   "execution_count": 1,
   "metadata": {
    "id": "CSrUPgapO0tf",
    "ExecuteTime": {
     "end_time": "2024-03-19T10:44:36.159983Z",
     "start_time": "2024-03-19T10:44:34.603549Z"
    }
   },
   "outputs": [],
   "source": [
    "# Import torch\n",
    "import torch\n",
    "\n",
    "# Setup device agnostic code\n",
    "\n",
    "\n",
    "# Setup random seed\n",
    "RANDOM_SEED = 42"
   ]
  },
  {
   "cell_type": "markdown",
   "metadata": {},
   "source": [
    "<a class=\"anchor\" id=\"3.1\"></a>"
   ]
  },
  {
   "cell_type": "markdown",
   "metadata": {
    "id": "pH7jIZ2SPFee"
   },
   "source": [
    "## <span style=\"color:blue; font-size:1em;\"> Task 1. Make a binary classification dataset with a Scikit-Learn's function.</span>\n",
    "\n",
    "[Go back to the content](#3)"
   ]
  },
  {
   "cell_type": "markdown",
   "metadata": {},
   "source": [
    "**For variants 1-3:** Create a Binary Classification Dataset with Blobs\n",
    "* Use Scikit-Learn's `make_blobs()` function to create a binary classification dataset with 1000 samples, 2 features, and 2 centers. Set random_state=42 for consistency.\n",
    "* Convert the dataset into PyTorch tensors using `torch.from_numpy()`.\n",
    "* Split the dataset into training and test sets using `train_test_split()` with an 80-20 split.\n",
    "\n",
    "**For variants 4-6:** Create a Binary Classification Dataset with Circles\n",
    "* Use Scikit-Learn's `make_circles()` function to create a binary classification dataset with 1000 samples and a random_state=42.\n",
    "* Convert the dataset into PyTorch tensors.\n",
    "* Split the dataset into training and test sets with an 80-20 split using `train_test_split()`.\n",
    "\n",
    "**For variants 7-9:** Create a Binary Classification Dataset with Linearly Separable Data\n",
    "* Use NumPy to generate two sets of linearly separable points in 2D space.\n",
    "* Label one set as class 0 and the other as class 1, and combine them into a single dataset.\n",
    "* Convert the dataset into PyTorch tensors.\n",
    "* Split the dataset into training and test sets using an 80-20 split.\n",
    "\n",
    "**For variants 10-12:** Create a Binary Classification Dataset with Overlapping Classes\n",
    "* Use Scikit-Learn's `make_classification()` function to create a dataset with 1000 samples, 2 features, and 2 classes with some overlap.\n",
    "* Convert the dataset into PyTorch tensors.\n",
    "* Split the dataset into training and test sets with an 80-20 split.\n",
    "\n",
    "**For variants 13-15:** Create a Binary Classification Dataset with Interleaved Spirals\n",
    "* Use a custom function to generate two interleaved spirals, one for each class.\n",
    "* Label the points in one spiral as class 0 and the other as class 1.\n",
    "* Convert the dataset into PyTorch tensors.\n",
    "* Split the dataset into training and test sets using an 80-20 split.\n",
    "\n",
    "**For variants 16-18:** Create a Binary Classification Dataset with Gaussian Distributions\n",
    "* Use Scikit-Learn's `make_gaussian_quantiles()` function to create a dataset with two Gaussian-distributed clusters.\n",
    "* Convert the dataset into PyTorch tensors.\n",
    "* Split the dataset into training and test sets with an 80-20 split.\n",
    "\n",
    "**For variants 19-21:** Create a Binary Classification Dataset with Concentric Circles\n",
    "* Use a custom function to generate two sets of points in 2D space forming concentric circles, one for each class.\n",
    "* Label the points in the inner circle as class 0 and the outer circle as class 1.\n",
    "* Convert the dataset into PyTorch tensors.\n",
    "* Split the dataset into training and test sets using an 80-20 split.\n",
    "\n",
    "**For variants 22-24:** Create a Binary Classification Dataset with Imbalanced Classes\n",
    "* Use Scikit-Learn's `make_classification()` function to create a dataset with 1000 samples, 2 features, and 2 classes, with one class significantly outnumbering the other (e.g., a 70-30 split).\n",
    "* Convert the dataset into PyTorch tensors.\n",
    "* Split the dataset into training and test sets with an 80-20 split.\n",
    "\n",
    "**For variants 25-27:** Create a Binary Classification Dataset with XOR Pattern\n",
    "* Use NumPy to generate points in 2D space that form an XOR pattern, with two classes that are not linearly separable.\n",
    "* Label the points accordingly and convert the dataset into PyTorch tensors.\n",
    "* Split the dataset into training and test sets using an 80-20 split.\n",
    "\n",
    "**For variants 28-30:** Create a Binary Classification Dataset with Two Intersecting Lines\n",
    "* Generate two sets of points forming intersecting lines in 2D space, one for each class.\n",
    "* Label the points based on which line they belong to and convert the dataset into PyTorch tensors.\n",
    "* Split the dataset into training and test sets with an 80-20 split."
   ]
  },
  {
   "cell_type": "code",
   "execution_count": 2,
   "metadata": {
    "id": "5t4VhPV1PX1X",
    "ExecuteTime": {
     "end_time": "2024-03-19T10:44:36.632569Z",
     "start_time": "2024-03-19T10:44:36.161984Z"
    }
   },
   "outputs": [],
   "source": [
    "# Create a dataset with Scikit-Learn's function\n",
    "# In this example, we use `make_moons()`\n",
    "from sklearn.datasets import make_moons"
   ]
  },
  {
   "cell_type": "code",
   "execution_count": 3,
   "metadata": {
    "id": "SUeHZ3-3P9C7",
    "ExecuteTime": {
     "end_time": "2024-03-19T10:44:36.963567Z",
     "start_time": "2024-03-19T10:44:36.633559Z"
    }
   },
   "outputs": [],
   "source": [
    "# Turn data into a DataFrame\n",
    "import pandas as pd\n"
   ]
  },
  {
   "cell_type": "code",
   "execution_count": 4,
   "metadata": {
    "id": "owrkPSFvQPFI",
    "ExecuteTime": {
     "end_time": "2024-03-19T10:44:37.310716Z",
     "start_time": "2024-03-19T10:44:36.965559Z"
    }
   },
   "outputs": [],
   "source": [
    "# Visualize the data on a scatter plot\n",
    "import matplotlib.pyplot as plt\n"
   ]
  },
  {
   "cell_type": "code",
   "execution_count": 5,
   "metadata": {
    "id": "bDhyHn9fR4dq",
    "ExecuteTime": {
     "end_time": "2024-03-19T10:44:37.357727Z",
     "start_time": "2024-03-19T10:44:37.311716Z"
    }
   },
   "outputs": [],
   "source": [
    "# Turn data into tensors of dtype float\n",
    "\n",
    "\n",
    "# Split the data into train and test sets (80% train, 20% test)\n",
    "from sklearn.model_selection import train_test_split\n"
   ]
  },
  {
   "cell_type": "markdown",
   "metadata": {},
   "source": [
    "<a class=\"anchor\" id=\"3.2\"></a>"
   ]
  },
  {
   "cell_type": "markdown",
   "metadata": {
    "id": "cMIjxZdzQfPz"
   },
   "source": [
    "## <span style=\"color:blue; font-size:1em;\"> Task 2. Build a model by subclassing `nn.Module`.</span>\n",
    "\n",
    "[Go back to the content](#3)"
   ]
  },
  {
   "cell_type": "markdown",
   "metadata": {},
   "source": [
    "**For variants 1-3:** Build a Model with LeakyReLU Activation\n",
    "* Subclass `nn.Module` to create a model with two linear layers.\n",
    "* Use LeakyReLU as the activation function between the linear layers to introduce non-linearity.\n",
    "* The output layer should have a single neuron for binary classification.\n",
    "\n",
    "**For variants 4-6:** Build a Model with ELU Activation\n",
    "* Subclass `nn.Module` to create a model with three linear layers.\n",
    "* Use ELU (Exponential Linear Unit) as the activation function between the layers.\n",
    "* The final layer should output a single neuron for binary classification.\n",
    "\n",
    "**For variants 7-9:** Build a Model with Multiple Non-Linear Layers\n",
    "* Subclass `nn.Module` to create a model with three linear layers.\n",
    "* Use a combination of ReLU and Sigmoid activation functions between the linear layers.\n",
    "* The output layer should have a single neuron for binary classification.\n",
    "\n",
    "**For variants 10-12:** Build a Model with Dropout for Regularization\n",
    "* Subclass `nn.Module` to create a model with two linear layers.\n",
    "* Use ReLU as the activation function and add a Dropout layer with a dropout rate of 0.5 to prevent overfitting.\n",
    "* The output layer should have a single neuron for binary classification.\n",
    "\n",
    "**For variants 13-15:** Build a Model with Batch Normalization\n",
    "* Subclass `nn.Module` to create a model with two linear layers.\n",
    "* Add a Batch Normalization layer after the first linear layer to normalize the input for the next layer.\n",
    "* Use ReLU as the activation function between the layers.\n",
    "* The output layer should have a single neuron for binary classification.\n",
    "\n",
    "**For variants 16-18:** Build a Model with Residual Connections\n",
    "* Subclass `nn.Module` to create a model with three linear layers.\n",
    "* Incorporate residual connections by adding the input of the first layer to the output of the second layer before applying the final activation function.\n",
    "* Use ReLU as the activation function between the layers.\n",
    "\n",
    "**For variants 19-21:** Build a Model with Convolutional Layers\n",
    "* Subclass `nn.Module` to create a model with one convolutional layer followed by a max pooling layer.\n",
    "* Add a linear layer after the pooling layer to reduce the dimensionality.\n",
    "* Use ReLU as the activation function between the layers.\n",
    "* The output layer should have a single neuron for binary classification.\n",
    "\n",
    "**For variants 22-24:** Build a Model with Attention Mechanism\n",
    "* Subclass `nn.Module` to create a model with a simple self-attention mechanism to weigh the importance of different features.\n",
    "* Use linear layers to transform the input features before applying the attention mechanism.\n",
    "* Use a softmax function to normalize the attention weights.\n",
    "* Combine the weighted features and pass them through additional linear layers for classification.\n",
    "\n",
    "**For variants 25-27:** Build a Model with Dilated Convolutional Layers\n",
    "* Subclass `nn.Module` to create a model that includes one or more dilated convolutional layers to increase the receptive field without increasing the number of parameters.\n",
    "* Use pooling layers and linear layers to reduce the dimensionality and produce a binary classification output.\n",
    "\n",
    "**For variants 28-30:** Build a Model with Recurrent Layers\n",
    "* Subclass `nn.Module` to create a model that includes a recurrent layer, such as an LSTM or GRU, to process the input data in a sequential manner.\n",
    "* Add linear layers after the recurrent layer to produce a binary classification output."
   ]
  },
  {
   "cell_type": "code",
   "execution_count": 6,
   "metadata": {
    "id": "hwtyvm34Ri6Q",
    "ExecuteTime": {
     "end_time": "2024-03-19T10:44:37.373715Z",
     "start_time": "2024-03-19T10:44:37.360716Z"
    }
   },
   "outputs": [],
   "source": [
    "import torch\n",
    "from torch import nn\n",
    "\n",
    "# Inherit from nn.Module to make a model capable of fitting the mooon data\n",
    "class MoonModelV0(nn.Module):\n",
    "    ## Your code here ##\n",
    "\n",
    "    def forward(self, x):\n",
    "        ## Your code here ##\n",
    "        return \n",
    "\n",
    "# Instantiate the model\n",
    "## Your code here ##"
   ]
  },
  {
   "cell_type": "markdown",
   "metadata": {},
   "source": [
    "<a class=\"anchor\" id=\"3.3\"></a>"
   ]
  },
  {
   "cell_type": "markdown",
   "metadata": {
    "id": "DSj97RwyVeFE"
   },
   "source": [
    "## <span style=\"color:blue; font-size:1em;\"> Task 3. Setup a binary classification compatible loss function and optimizer.</span>\n",
    "\n",
    "[Go back to the content](#3)"
   ]
  },
  {
   "cell_type": "markdown",
   "metadata": {},
   "source": [
    "**For variants 1-3:** Utilize BCEWithLogitsLoss and Adam Optimizer\n",
    "* Set up the loss function as `nn.BCEWithLogitsLoss()` for binary classification.\n",
    "* Use the Adam optimizer with a learning rate of 0.001 to train the model.\n",
    "\n",
    "**For variants 4-6:** Utilize CrossEntropyLoss and RMSprop Optimizer\n",
    "* Use `nn.CrossEntropyLoss()` as the loss function, which combines LogSoftmax and NLLLoss.\n",
    "* Opt for the RMSprop optimizer with a learning rate of 0.01 to train the model.\n",
    "\n",
    "**For variants 7-9:** Utilize SmoothL1Loss and Adagrad Optimizer\n",
    "* Set up the loss function as `nn.SmoothL1Loss()` for binary classification, which is less sensitive to outliers than the traditional L1 loss.\n",
    "* Use the Adagrad optimizer with a learning rate of 0.01 to train the model, which adapts the learning rate for each parameter.\n",
    "\n",
    "**For variants 10-12:** Utilize Hinge Embedding Loss and RMSprop Optimizer\n",
    "* Use `nn.HingeEmbeddingLoss()` as the loss function, which is commonly used for learning nonlinear embeddings or for binary classification tasks.\n",
    "* Opt for the RMSprop optimizer with a learning rate of 0.001 to train the model.\n",
    "\n",
    "**For variants 13-15:** Utilize MSELoss and Adadelta Optimizer\n",
    "* Set up the loss function as `nn.MSELoss()` for binary classification, treating the problem as a regression task.\n",
    "* Use the Adadelta optimizer with default parameters to train the model, which adapts the learning rate based on a moving window of gradient updates.\n",
    "\n",
    "**For variants 16-18:** Utilize BCELoss and Adamax Optimizer\n",
    "* Use `nn.BCELoss()` as the loss function for binary classification, which expects the input to be probabilities obtained after applying a sigmoid function.\n",
    "* Opt for the Adamax optimizer, a variation of the Adam optimizer that can be more stable in some cases.\n",
    "\n",
    "**For variants 19-21:** Utilize Triplet Margin Loss and Nesterov Accelerated Gradient (NAG) Optimizer\n",
    "* Set up the loss function as `nn.TripletMarginLoss()` for learning embeddings in a way that separates classes.\n",
    "* Use the Nesterov Accelerated Gradient (NAG) optimizer with a learning rate of 0.01 to train the model, which can lead to faster convergence.\n",
    "\n",
    "**For variants 22-24:** Utilize Cosine Embedding Loss and Adabelief Optimizer\n",
    "* Use `nn.CosineEmbeddingLoss()` as the loss function for learning similarities between embeddings.\n",
    "* Opt for the Adabelief optimizer, which adapts the learning rate based on the belief in the current gradient direction.\n",
    "\n",
    "**For variants 25-27:** Utilize Quadratic Loss and AdaMax Optimizer\n",
    "* Set up the loss function as a custom quadratic loss function for binary classification.\n",
    "* Use the AdaMax optimizer, a variation of the Adam optimizer that uses infinity norm, to train the model.\n",
    "\n",
    "**For variants 28-30:** Utilize LogCosh Loss and Yogi Optimizer\n",
    "* Use a custom LogCosh loss function, which is smoother than L2 loss and less sensitive to outliers.\n",
    "* Opt for the Yogi optimizer, an adaptive optimizer that adjusts the learning rate based on the sign of the gradient."
   ]
  },
  {
   "cell_type": "code",
   "execution_count": 7,
   "metadata": {
    "id": "whSGw5qgVvxU",
    "ExecuteTime": {
     "end_time": "2024-03-19T10:44:37.388716Z",
     "start_time": "2024-03-19T10:44:37.375716Z"
    }
   },
   "outputs": [],
   "source": [
    "# Setup loss function\n",
    "\n",
    "# Setup optimizer to optimize model's parameters"
   ]
  },
  {
   "cell_type": "markdown",
   "metadata": {},
   "source": [
    "<a class=\"anchor\" id=\"3.4\"></a>"
   ]
  },
  {
   "cell_type": "markdown",
   "metadata": {
    "id": "nvk4PfNTWUAt"
   },
   "source": [
    "## <span style=\"color:blue; font-size:1em;\"> Task 4. Create a training and testing loop to fit the model you created in Task 2 to the data you created in Task 1.</span>\n",
    "\n",
    "[Go back to the content](#3)"
   ]
  },
  {
   "cell_type": "markdown",
   "metadata": {},
   "source": [
    "**For all variants:**  \n",
    "  * Do a forward pass of the model to see what's coming out in the form of logits, prediction probabilities and labels.\n",
    "  * To measure model accuray, you can create your own accuracy function or use the accuracy function in [TorchMetrics](https://torchmetrics.readthedocs.io/en/latest/).\n",
    "  * Train the model for long enough for it to reach over 96% accuracy.\n",
    "  * The training loop should output progress every 10 epochs of the model's training and test set loss and accuracy."
   ]
  },
  {
   "cell_type": "markdown",
   "metadata": {},
   "source": [
    "**For variants 1-3:** Training Loop with Early Stopping\n",
    "* Implement a training loop with forward pass, backward pass, and optimizer step.\n",
    "* Include early stopping based on validation loss to prevent overfitting.\n",
    "* Report training and validation accuracy every 10 epochs.\n",
    "\n",
    "**For variants 4-6:** Training Loop with Learning Rate Scheduler\n",
    "* Implement a training loop with a learning rate scheduler to adjust the learning rate dynamically.\n",
    "* Use torch.optim.lr_scheduler.StepLR to decrease the learning rate by a factor of 0.1 every 30 epochs.\n",
    "* Output training and test set loss and accuracy every 10 epochs.\n",
    "\n",
    "**For variants 7-9:** Training Loop with Weight Decay Regularization\n",
    "* Implement a training loop with an optimizer that includes weight decay regularization (e.g., torch.optim.AdamW) to prevent overfitting.\n",
    "* Report training and validation accuracy and loss every 10 epochs.\n",
    "* Include a condition to stop training if the validation loss increases for a certain number of consecutive epochs.\n",
    "\n",
    "**For variants 10-12:** Training Loop with Gradient Clipping\n",
    "* Implement a training loop that includes gradient clipping to prevent exploding gradients, which can be done using torch.nn.utils.clip_grad_norm_.\n",
    "* Output training and test set loss and accuracy every 10 epochs.\n",
    "* Train the model for a sufficient number of epochs to achieve the desired accuracy.\n",
    "* Implement a training loop that logs custom metrics, such as precision and recall, in addition to loss and accuracy.\n",
    "* Report these metrics every 10 epochs to monitor the model's performance.\n",
    "* Include a condition to save the model checkpoint if there is an improvement in the validation metrics.\n",
    "\n",
    "**For variants 16-18:** Training Loop with TensorBoard Integration\n",
    "* Integrate TensorBoard into the training loop to log metrics and visualize the training process in real-time.\n",
    "* Use SummaryWriter to log training and validation loss and accuracy.\n",
    "* Include histograms of model parameters and gradients to monitor the training dynamics.\n",
    "\n",
    "**For variants 19-21:** Training Loop with Custom Learning Rate Scheduler\n",
    "* Implement a training loop with a custom learning rate scheduler that reduces the learning rate by a factor of 0.5 if the validation loss does not improve for 5 consecutive epochs.\n",
    "* Log training and validation loss and accuracy every 10 epochs.\n",
    "* Include model checkpointing based on validation accuracy.\n",
    "\n",
    "**For variants 22-24:** Training Loop with Model Pruning\n",
    "* Integrate model pruning into the training loop to reduce the model's complexity and potentially improve generalization.\n",
    "* Use torch.nn.utils.prune to apply pruning techniques like L1 unstructured pruning after a certain number of epochs.\n",
    "* Monitor the impact of pruning on training and validation metrics.\n",
    "\n",
    "**For variants 25-27:** Training Loop with Gradient Accumulation\n",
    "* Implement a training loop that uses gradient accumulation to effectively handle large batch sizes that might not fit in memory.\n",
    "* Update the model parameters only after accumulating gradients over several mini-batches.\n",
    "* Report training and validation metrics every 10 epochs.\n",
    "\n",
    "**For variants 28-30:** Training Loop with Mixed Precision Training\n",
    "* Integrate mixed precision training into the training loop using PyTorch's automatic mixed precision (AMP) to reduce memory usage and potentially speed up training.\n",
    "* Use a context manager to enable AMP for the forward and backward passes.\n",
    "* Monitor training and validation metrics and adjust the training process as needed."
   ]
  },
  {
   "cell_type": "code",
   "execution_count": 8,
   "metadata": {
    "colab": {
     "base_uri": "https://localhost:8080/"
    },
    "id": "AgnFdlamd2-D",
    "outputId": "627d8c33-071e-4925-f18b-5d5ba6126729",
    "ExecuteTime": {
     "end_time": "2024-03-19T10:44:37.404716Z",
     "start_time": "2024-03-19T10:44:37.390716Z"
    }
   },
   "outputs": [
    {
     "name": "stdout",
     "output_type": "stream",
     "text": [
      "Logits:\n",
      "Pred probs:\n",
      "Pred labels:\n"
     ]
    }
   ],
   "source": [
    "# What's coming out of our model?\n",
    "\n",
    "# logits (raw outputs of model)\n",
    "print(\"Logits:\")\n",
    "## Your code here ##\n",
    "\n",
    "# Prediction probabilities\n",
    "print(\"Pred probs:\")\n",
    "## Your code here ##\n",
    "\n",
    "# Prediction labels\n",
    "print(\"Pred labels:\")\n",
    "## Your code here ##"
   ]
  },
  {
   "cell_type": "code",
   "execution_count": 9,
   "metadata": {
    "id": "rUSDNHB4euoJ",
    "ExecuteTime": {
     "end_time": "2024-03-19T10:44:39.053111Z",
     "start_time": "2024-03-19T10:44:37.406716Z"
    }
   },
   "outputs": [],
   "source": [
    "# Let's calculate the accuracy using accuracy from TorchMetrics\n",
    "from torchmetrics import Accuracy\n",
    "\n",
    "## TODO: Uncomment this code to use the Accuracy function\n",
    "# acc_fn = Accuracy(task=\"multiclass\", num_classes=2).to(device) # send accuracy function to device\n",
    "# acc_fn"
   ]
  },
  {
   "cell_type": "code",
   "execution_count": 10,
   "metadata": {
    "id": "SHBY3h7XXnxt",
    "ExecuteTime": {
     "end_time": "2024-03-19T10:44:39.069139Z",
     "start_time": "2024-03-19T10:44:39.054081Z"
    }
   },
   "outputs": [],
   "source": [
    "## TODO: Uncomment this to set the seed\n",
    "# torch.manual_seed(RANDOM_SEED)\n",
    "\n",
    "# Setup epochs\n",
    "\n",
    "\n",
    "# Send data to the device\n",
    "\n",
    "\n",
    "# Loop through the data\n",
    "# for epoch in range(epochs):\n",
    "  ### Training\n",
    "  \n",
    "\n",
    "  # 1. Forward pass (logits output)\n",
    "  \n",
    "  # Turn logits into prediction probabilities\n",
    "  \n",
    "\n",
    "  # Turn prediction probabilities into prediction labels\n",
    "  \n",
    "\n",
    "  # 2. Calculaute the loss\n",
    "  # loss = loss_fn(y_logits, y_train) # loss = compare model raw outputs to desired model outputs\n",
    "\n",
    "  # Calculate the accuracy\n",
    "  # acc = acc_fn(y_pred, y_train.int()) # the accuracy function needs to compare pred labels (not logits) with actual labels\n",
    "\n",
    "  # 3. Zero the gradients\n",
    "  \n",
    "\n",
    "  # 4. Loss backward (perform backpropagation) - https://brilliant.org/wiki/backpropagation/#:~:text=Backpropagation%2C%20short%20for%20%22backward%20propagation,to%20the%20neural%20network's%20weights.\n",
    "  \n",
    "  # 5. Step the optimizer (gradient descent) - https://towardsdatascience.com/gradient-descent-algorithm-a-deep-dive-cf04e8115f21#:~:text=Gradient%20descent%20(GD)%20is%20an,e.g.%20in%20a%20linear%20regression) \n",
    "  \n",
    "\n",
    "  ### Testing\n",
    "  # model_0.eval() \n",
    "  # with torch.inference_mode():\n",
    "    # 1. Forward pass (to get the logits)\n",
    "    \n",
    "    # Turn the test logits into prediction labels\n",
    "    \n",
    "\n",
    "    # 2. Calculate the test loss/acc\n",
    "    \n",
    "\n",
    "  # Print out what's happening every 100 epochs\n",
    "  # if epoch % 100 == 0:\n",
    "    "
   ]
  },
  {
   "cell_type": "markdown",
   "metadata": {},
   "source": [
    "<a class=\"anchor\" id=\"3.5\"></a>"
   ]
  },
  {
   "cell_type": "markdown",
   "metadata": {
    "id": "8Nwihtomj9JO"
   },
   "source": [
    "## <span style=\"color:blue; font-size:1em;\"> Task 5. Make predictions with your trained model and plot them using the `plot_decision_boundary()` function predefined in this notebook.</span>\n",
    "\n",
    "[Go back to the content](#3)"
   ]
  },
  {
   "cell_type": "markdown",
   "metadata": {},
   "source": [
    "**For variants 1-3:** Prediction and Plotting with a Custom Threshold\n",
    "* Make predictions with the trained model and apply a custom threshold (e.g., 0.7) to convert logits to binary labels.\n",
    "* Plot the decision boundary and the data points with different colors for each class.\n",
    "\n",
    "**For variants 4-6:** Prediction and Plotting with Softmax\n",
    "* Use the softmax function to convert logits to probabilities.\n",
    "* Make predictions and plot the decision boundary with the data points, highlighting the class probabilities.\n",
    "\n",
    "**For variants 7-9:** Prediction and Plotting with Confusion Matrix\n",
    "* Make predictions with the trained model and compute the confusion matrix to evaluate the model's performance.\n",
    "* Plot the decision boundary along with a visualization of the confusion matrix.\n",
    "\n",
    "**For variants 10-12:** Prediction and Plotting with ROC Curve\n",
    "* Use the trained model to predict probabilities for the positive class.\n",
    "* Plot the Receiver Operating Characteristic (ROC) curve to evaluate the model's performance.\n",
    "\n",
    "**For variants 13-15:** Prediction and Plotting with Precision-Recall Curve\n",
    "* Make predictions with the trained model and compute the precision and recall at different thresholds.\n",
    "* Plot the Precision-Recall curve to evaluate the model's performance.\n",
    "\n",
    "**For variants 16-18:** Prediction and Plotting with Feature Importance\n",
    "* Use a technique like permutation feature importance to evaluate the importance of each input feature in the model's predictions.\n",
    "* Plot the decision boundary along with a bar chart showing the importance of each feature.\n",
    "\n",
    "**For variants 19-21:** Prediction and Plotting with Calibrated Probabilities\n",
    "* Use a calibration technique like Platt scaling to calibrate the output probabilities of the trained model.\n",
    "* Make predictions with the calibrated model and * Plot the decision boundary along with the calibrated probabilities.\n",
    "\n",
    "**For variants 22-24:** Prediction and Plotting with Uncertainty Estimation\n",
    "* Implement a method for uncertainty estimation, such as Monte Carlo dropout, in the trained model.\n",
    "* Make predictions with uncertainty estimates and visualize the decision boundary along with the uncertainty regions.\n",
    "\n",
    "**For variants 25-27:** Prediction and Plotting with Class Activation Maps\n",
    "* Use Class Activation Mapping (CAM) techniques to visualize the regions of the input that are important for the model's predictions.\n",
    "* Make predictions with the trained model and overlay the class activation maps on the input data.\n",
    "\n",
    "**For variants 28-30:** Prediction and Plotting with Integrated Gradients\n",
    "* Implement the Integrated Gradients method to attribute the model's predictions to the input features.\n",
    "* Make predictions with the trained model and visualize the attributions using plots that highlight the most important features."
   ]
  },
  {
   "cell_type": "code",
   "execution_count": 11,
   "metadata": {
    "id": "0YRzatb8a1P2",
    "ExecuteTime": {
     "end_time": "2024-03-19T10:44:39.085139Z",
     "start_time": "2024-03-19T10:44:39.071140Z"
    }
   },
   "outputs": [],
   "source": [
    "# Plot the model predictions\n",
    "import numpy as np\n",
    "\n",
    "def plot_decision_boundary(model, X, y):\n",
    "  \n",
    "    # Put everything to CPU (works better with NumPy + Matplotlib)\n",
    "    model.to(\"cpu\")\n",
    "    X, y = X.to(\"cpu\"), y.to(\"cpu\")\n",
    "\n",
    "    # Source - https://madewithml.com/courses/foundations/neural-networks/ \n",
    "    # (with modifications)\n",
    "    x_min, x_max = X[:, 0].min() - 0.1, X[:, 0].max() + 0.1\n",
    "    y_min, y_max = X[:, 1].min() - 0.1, X[:, 1].max() + 0.1\n",
    "    xx, yy = np.meshgrid(np.linspace(x_min, x_max, 101), \n",
    "                         np.linspace(y_min, y_max, 101))\n",
    "\n",
    "    # Make features\n",
    "    X_to_pred_on = torch.from_numpy(np.column_stack((xx.ravel(), yy.ravel()))).float()\n",
    "\n",
    "    # Make predictions\n",
    "    model.eval()\n",
    "    with torch.inference_mode():\n",
    "        y_logits = model(X_to_pred_on)\n",
    "\n",
    "    # Test for multi-class or binary and adjust logits to prediction labels\n",
    "    if len(torch.unique(y)) > 2:\n",
    "        y_pred = torch.softmax(y_logits, dim=1).argmax(dim=1) # mutli-class\n",
    "    else: \n",
    "        y_pred = torch.round(torch.sigmoid(y_logits)) # binary\n",
    "    \n",
    "    # Reshape preds and plot\n",
    "    y_pred = y_pred.reshape(xx.shape).detach().numpy()\n",
    "    plt.contourf(xx, yy, y_pred, cmap=plt.cm.RdYlBu, alpha=0.7)\n",
    "    plt.scatter(X[:, 0], X[:, 1], c=y, s=40, cmap=plt.cm.RdYlBu)\n",
    "    plt.xlim(xx.min(), xx.max())\n",
    "    plt.ylim(yy.min(), yy.max())"
   ]
  },
  {
   "cell_type": "code",
   "execution_count": 12,
   "metadata": {
    "id": "PMrcpyirig1d",
    "ExecuteTime": {
     "end_time": "2024-03-19T10:44:39.101139Z",
     "start_time": "2024-03-19T10:44:39.087140Z"
    }
   },
   "outputs": [],
   "source": [
    "# Plot decision boundaries for training and test sets\n"
   ]
  },
  {
   "cell_type": "markdown",
   "metadata": {},
   "source": [
    "<a class=\"anchor\" id=\"3.6\"></a>"
   ]
  },
  {
   "cell_type": "markdown",
   "metadata": {
    "id": "EtMYBvtciiAU"
   },
   "source": [
    "## <span style=\"color:blue; font-size:1em;\"> Task 6. Replicate an activation function in pure PyTorch.</span>\n",
    "\n",
    "[Go back to the content](#3)"
   ]
  },
  {
   "cell_type": "markdown",
   "metadata": {},
   "source": [
    "*Feel free to reference the [ML cheatsheet website](https://ml-cheatsheet.readthedocs.io/en/latest/activation_functions.html#) for the formula.*"
   ]
  },
  {
   "cell_type": "markdown",
   "metadata": {},
   "source": [
    "**For variants 1-3:** Replicate the Sigmoid Activation Function\n",
    "* Implement the Sigmoid activation function in PyTorch using the formula: $sigmoid(x) = 1 / (1 + exp(-x))$.\n",
    "* Test the function with a range of input values to ensure it behaves as expected.\n",
    "\n",
    "**For variants 4-6:** Replicate the ReLU Activation Function\n",
    "* Implement the ReLU (Rectified Linear Unit) activation function in PyTorch using the formula: $relu(x) = max(0, x)$.\n",
    "* Verify the function by applying it to a set of positive and negative input values.\n",
    "\n",
    "**For variants 7-9:** Replicate the Softplus Activation Function\n",
    "* Implement the Softplus activation function in PyTorch using the formula: $softplus(x) = log(1 + exp(x))$.\n",
    "* Test the function with a range of input values to ensure it behaves as expected.\n",
    "\n",
    "**For variants 10-12:** Replicate the Swish Activation Function\n",
    "* Implement the Swish activation function in PyTorch using the formula: $swish(x) = x * sigmoid(x)$.\n",
    "* Verify the function by applying it to a set of input values.\n",
    "\n",
    "**For variants 13-15:** Replicate the Mish Activation Function\n",
    "* Implement the Mish activation function in PyTorch using the formula: $mish(x) = x * tanh(softplus(x))$.\n",
    "* Test the function with a range of input values to ensure it behaves as expected.\n",
    "\n",
    "**For variants 16-18:** Replicate the GELU Activation Function\n",
    "* Implement the GELU (Gaussian Error Linear Unit) activation function in PyTorch using the formula: $gelu(x) = 0.5 * x * (1 + tanh(sqrt(2/pi) * (x + 0.044715 * x^3)))$.\n",
    "* Verify the function by applying it to a set of input values.\n",
    "\n",
    "**For variants 19-21:** Replicate the SELU Activation Function\n",
    "* Implement the SELU (Scaled Exponential Linear Unit) activation function in PyTorch using the formula: $selu(x) = scale * (max(0, x) + min(0, alpha * (exp(x) - 1)))$, where scale and alpha are predefined constants.\n",
    "* Test the function with a range of input values to ensure it behaves as expected.\n",
    "\n",
    "**For variants 22-24:** Replicate the Hardswish Activation Function\n",
    "* Implement the Hardswish activation function in PyTorch using the formula: $hardswish(x) = x * relu6(x + 3) / 6, where relu6(x) = min(max(0, x), 6)$.\n",
    "* Verify the function by applying it to a set of input values.\n",
    "\n",
    "**For variants 25-27:** Replicate the Softsign Activation Function\n",
    "* Implement the Softsign activation function in PyTorch using the formula: $softsign(x) = x / (1 + |x|)$.\n",
    "* Test the function with a range of input values to ensure it behaves as expected.\n",
    "\n",
    "**For variants 28-30:** Replicate the Linear Activation Function\n",
    "* Implement the Linear (Identity) activation function in PyTorch, which simply returns the input without any modification.\n",
    "* Verify the function by applying it to a set of input values."
   ]
  },
  {
   "cell_type": "code",
   "execution_count": 13,
   "metadata": {
    "id": "BlXaWC5TkEUE",
    "ExecuteTime": {
     "end_time": "2024-03-19T10:44:39.117139Z",
     "start_time": "2024-03-19T10:44:39.102140Z"
    }
   },
   "outputs": [],
   "source": [
    "# Create a straight line tensor\n"
   ]
  },
  {
   "cell_type": "code",
   "execution_count": 14,
   "metadata": {
    "id": "vZPCcQmIkZjO",
    "ExecuteTime": {
     "end_time": "2024-03-19T10:44:39.133139Z",
     "start_time": "2024-03-19T10:44:39.119141Z"
    }
   },
   "outputs": [],
   "source": [
    "# Test torch.tanh() on the tensor and plot it\n"
   ]
  },
  {
   "cell_type": "code",
   "execution_count": 15,
   "metadata": {
    "id": "J-ne__Kjkdc1",
    "ExecuteTime": {
     "end_time": "2024-03-19T10:44:39.149139Z",
     "start_time": "2024-03-19T10:44:39.134140Z"
    }
   },
   "outputs": [],
   "source": [
    "# Replicate torch.tanh() and plot it\n"
   ]
  },
  {
   "cell_type": "markdown",
   "metadata": {},
   "source": [
    "<a class=\"anchor\" id=\"3.7\"></a>"
   ]
  },
  {
   "cell_type": "markdown",
   "metadata": {
    "id": "Lbt1bNcWk5G9"
   },
   "source": [
    "## <span style=\"color:blue; font-size:1em;\"> Task 7. Create a multi-class dataset using the [spirals data creation function from CS231n](https://cs231n.github.io/neural-networks-case-study/) (see below for the code).</span>\n",
    "\n",
    "[Go back to the content](#3)"
   ]
  },
  {
   "cell_type": "markdown",
   "metadata": {},
   "source": [
    "**For all variants in general:**\n",
    "  * When necessary, split the data into training and test sets (80% train, 20% test) as well as turn it into PyTorch tensors.\n",
    "  * Make a training and testing loop for the multi-class data and train a model on it to reach over 95% testing accuracy (you can use any accuracy measuring function here that you like) - 1000 epochs should be plenty.\n",
    "  * Plot the decision boundaries on the spirals dataset from your model predictions, the `plot_decision_boundary()` function should work for this dataset too."
   ]
  },
  {
   "cell_type": "markdown",
   "metadata": {},
   "source": [
    "**For variants 1-3:** Multi-class Classification with CrossEntropyLoss and SGD\n",
    "* Create a multi-class dataset using the spirals data creation function.\n",
    "* Split the data into training and test sets (80% train, 20% test) and convert them into PyTorch tensors.\n",
    "* Construct a model with multiple linear layers and ReLU activation functions.\n",
    "* Use `nn.CrossEntropyLoss()` as the loss function for multi-class classification.\n",
    "* Train the model using the SGD optimizer with a learning rate of 0.01.\n",
    "* Implement a training loop to train the model for 1000 epochs and achieve over 95% test accuracy.\n",
    "* Plot the decision boundaries using the `plot_decision_boundary()` function.\n",
    "\n",
    "**For variants 4-6:** Multi-class Classification with Focal Loss and AdamW Optimizer\n",
    "* Create a multi-class dataset using the spirals function.\n",
    "* Split the data (80% train, 20% test), convert it to PyTorch tensors, and create data loaders for batch processing.\n",
    "* Build a model with a combination of linear layers and ELU activation functions.\n",
    "* Implement the Focal Loss function, which is useful for handling class imbalance in multi-class classification.\n",
    "* Use the AdamW optimizer, which is a variation of the Adam optimizer with weight decay regularization.\n",
    "* Develop a training and testing loop that includes logging the loss and accuracy metrics.\n",
    "* Train the model to reach over 95% accuracy on the test set, adjusting the number of epochs and learning rate as necessary.\n",
    "* Visualize the decision boundaries of the trained model on the spirals dataset.\n",
    "\n",
    "**For variants 7-9:** Multi-class Classification with Weighted CrossEntropyLoss and Adam\n",
    "* Create a multi-class dataset using the spirals function.\n",
    "* Split the data into training and test sets (80% train, 20% test) and convert them into PyTorch tensors.\n",
    "* Construct a model with multiple linear layers and LeakyReLU activation functions.\n",
    "* Use nn.CrossEntropyLoss(weight=weights) as the loss function, where weights is a tensor specifying the weight of each class.\n",
    "* Train the model using the Adam optimizer with a learning rate of 0.005.\n",
    "* Implement a training loop to train the model for 1000 epochs and achieve over 95% test accuracy.\n",
    "* Plot the decision boundaries using the `plot_decision_boundary()` function.\n",
    "\n",
    "**For variants 10-12:** Multi-class Classification with Label Smoothing and SGD with Momentum\n",
    "* Create a multi-class dataset using the spirals function.\n",
    "* Split the data (80% train, 20% test), convert it to PyTorch tensors, and create data loaders for batch processing.\n",
    "* Build a model with a combination of linear layers and PReLU activation functions.\n",
    "* Implement label smoothing in the loss function to improve generalization.\n",
    "* Use the SGD optimizer with momentum (e.g., `torch.optim.SGD(model.parameters(), lr=0.01, momentum=0.9)`) to train the model.\n",
    "* Develop a training and testing loop that includes logging the loss and accuracy metrics.\n",
    "* Train the model to reach over 95% accuracy on the test set, adjusting the number of epochs and learning rate as necessary.\n",
    "* Visualize the decision boundaries of the trained model on the spirals dataset.\n",
    "\n",
    "**For variants 13-15:** Multi-class Classification with F1 Score Monitoring and Adam Optimizer\n",
    "* Create a multi-class dataset using the spirals function.\n",
    "* Split the data into training and test sets (80% train, 20% test) and convert them into PyTorch tensors.\n",
    "* Construct a model with multiple linear layers and activation functions like SELU (Scaled Exponential Linear Unit).\n",
    "* Use a loss function suitable for multi-class classification, such as `nn.CrossEntropyLoss()`.\n",
    "* Train the model using the Adam optimizer with a learning rate of 0.003.\n",
    "* Implement a training loop that monitors the F1 score in addition to accuracy and loss.\n",
    "* Train the model to achieve a high F1 score on the test set.\n",
    "* Visualize the decision boundaries using the `plot_decision_boundary()` function.\n",
    "\n",
    "**For variants 16-18:** Multi-class Classification with Custom Loss Function and Adagrad Optimizer\n",
    "* Create a multi-class dataset using the spirals function.\n",
    "* Split the data (80% train, 20% test), convert it to PyTorch tensors, and create data loaders for batch processing.\n",
    "* Build a model with a combination of linear layers and activation functions like PReLU (Parametric ReLU).\n",
    "* Implement a custom loss function that combines elements of cross-entropy loss and another loss function, such as L2 loss, to encourage certain properties in the model's predictions.\n",
    "* Use the Adagrad optimizer to train the model, adjusting the learning rate as necessary.\n",
    "* Develop a training and testing loop that logs the custom loss and accuracy metrics.\n",
    "* Train the model to achieve high accuracy and a low value of the custom loss on the test set.\n",
    "* Plot the decision boundaries of the trained model on the spirals dataset.\n",
    "\n",
    "**For variants 19-21:** Multi-class Classification with Data Augmentation and AdaBound Optimizer\n",
    "* Create a multi-class dataset using the spirals function.\n",
    "* Apply data augmentation techniques, such as random rotations and scaling, to increase the diversity of the training data.\n",
    "* Use a model with multiple linear layers and activation functions like LeakyReLU.\n",
    "* Train the model using the AdaBound optimizer, which combines the benefits of Adam and SGD optimizers.\n",
    "* Implement a training loop that includes data augmentation in each epoch.\n",
    "* Evaluate the model on the test set and visualize the decision boundaries.\n",
    "\n",
    "**For variants 22-24:** Multi-class Classification with Transfer Learning and Lookahead Optimizer\n",
    "* Use a pre-trained model (e.g., a small convolutional neural network) as a feature extractor for the spirals dataset.\n",
    "* Freeze the weights of the pre-trained layers and add new linear layers on top for classification.\n",
    "* Train the new layers using the Lookahead optimizer, which consists of two optimizers working in tandem.\n",
    "* Implement a training loop that fine-tunes the new layers while keeping the pre-trained layers frozen.\n",
    "* Assess the model's performance on the test set and plot the decision boundaries.\n",
    "\n",
    "**For variants 25-27:** Multi-class Classification with Spectral Normalization and RAdam Optimizer\n",
    "* Create a multi-class dataset using the spirals function.\n",
    "* Apply spectral normalization to the layers of the model to stabilize the training process.\n",
    "* Use a model with multiple linear layers and activation functions like Swish.\n",
    "* Train the model using the RAdam (Rectified Adam) optimizer, which combines the benefits of adaptive learning rates and rectification.\n",
    "* Implement a training loop that includes spectral normalization in each epoch.\n",
    "* Evaluate the model on the test set and visualize the decision boundaries.\n",
    "\n",
    "**For variants 28-30:** Multi-class Classification with Dropout Regularization and NovoGrad Optimizer\n",
    "* Create a multi-class dataset using the spirals function.\n",
    "* Incorporate dropout regularization in the model to prevent overfitting.\n",
    "* Use a model with multiple linear layers and activation functions like SiLU (Sigmoid Linear Unit).\n",
    "* Train the model using the NovoGrad optimizer, which is designed to be robust and efficient.\n",
    "* Implement a training loop that includes dropout regularization.\n",
    "* Assess the model's performance on the test set and plot the decision boundaries.\n"
   ]
  },
  {
   "cell_type": "code",
   "execution_count": 16,
   "metadata": {
    "colab": {
     "base_uri": "https://localhost:8080/",
     "height": 265
    },
    "id": "tU-UNZsKlJls",
    "outputId": "8b7b745a-070d-4ecb-c639-c4ee4d8eae06",
    "ExecuteTime": {
     "end_time": "2024-03-19T10:44:39.306152Z",
     "start_time": "2024-03-19T10:44:39.150140Z"
    }
   },
   "outputs": [
    {
     "data": {
      "text/plain": "<Figure size 640x480 with 1 Axes>",
      "image/png": "[encoded data removed]"
     },
     "metadata": {},
     "output_type": "display_data"
    }
   ],
   "source": [
    "# Code for creating a spiral dataset from CS231n\n",
    "RANDOM_SEED = 42\n",
    "np.random.seed(RANDOM_SEED)\n",
    "N = 100 # number of points per class\n",
    "D = 2 # dimensionality\n",
    "K = 3 # number of classes\n",
    "X = np.zeros((N*K,D)) # data matrix (each row = single example)\n",
    "y = np.zeros(N*K, dtype='uint8') # class labels\n",
    "for j in range(K):\n",
    "  ix = range(N*j,N*(j+1))\n",
    "  r = np.linspace(0.0,1,N) # radius\n",
    "  t = np.linspace(j*4,(j+1)*4,N) + np.random.randn(N)*0.2 # theta\n",
    "  X[ix] = np.c_[r*np.sin(t), r*np.cos(t)]\n",
    "  y[ix] = j\n",
    "# lets visualize the data\n",
    "plt.scatter(X[:, 0], X[:, 1], c=y, s=40, cmap=plt.cm.RdYlBu)\n",
    "plt.show()"
   ]
  },
  {
   "cell_type": "code",
   "execution_count": 17,
   "metadata": {
    "id": "OWVrmkEyl0VP",
    "ExecuteTime": {
     "end_time": "2024-03-19T10:44:39.322153Z",
     "start_time": "2024-03-19T10:44:39.308156Z"
    }
   },
   "outputs": [],
   "source": [
    "# Turn data into tensors\n",
    "import torch\n",
    "X = torch.from_numpy(X).type(torch.float) # features as float32\n",
    "y = torch.from_numpy(y).type(torch.LongTensor) # labels need to be of type long\n",
    "\n",
    "# Create train and test splits\n",
    "from sklearn.model_selection import train_test_split\n"
   ]
  },
  {
   "cell_type": "code",
   "execution_count": 18,
   "metadata": {
    "id": "a-v-7f0op0tG",
    "ExecuteTime": {
     "end_time": "2024-03-19T10:44:39.338153Z",
     "start_time": "2024-03-19T10:44:39.326155Z"
    }
   },
   "outputs": [],
   "source": [
    "# Let's calculate the accuracy for when we fit our model\n",
    "from torchmetrics import Accuracy\n",
    "\n",
    "## TODO: uncomment the two lines below to send the accuracy function to the device\n",
    "# acc_fn = Accuracy(task=\"multiclass\", num_classes=4).to(device)\n",
    "# acc_fn"
   ]
  },
  {
   "cell_type": "code",
   "execution_count": 19,
   "metadata": {
    "id": "DB3u3ldumapf",
    "ExecuteTime": {
     "end_time": "2024-03-19T10:44:39.353153Z",
     "start_time": "2024-03-19T10:44:39.340157Z"
    }
   },
   "outputs": [],
   "source": [
    "# Prepare device agnostic code\n",
    "# device = \"cuda\" if torch.cuda.is_available() else \"cpu\"\n",
    "\n",
    "# Create model by subclassing `nn.Module`\n",
    "\n",
    "\n",
    "\n",
    "# Instantiate model and send it to device\n"
   ]
  },
  {
   "cell_type": "code",
   "execution_count": 20,
   "metadata": {
    "colab": {
     "base_uri": "https://localhost:8080/"
    },
    "id": "QE7XWSSunMTS",
    "outputId": "00b31909-87c9-41e3-9dbb-fb4c4bd3aabd",
    "ExecuteTime": {
     "end_time": "2024-03-19T10:44:39.369153Z",
     "start_time": "2024-03-19T10:44:39.355154Z"
    }
   },
   "outputs": [
    {
     "name": "stdout",
     "output_type": "stream",
     "text": [
      "Logits:\n",
      "Pred probs:\n",
      "Pred labels:\n"
     ]
    }
   ],
   "source": [
    "# Setup data to be device agnostic\n",
    "\n",
    "\n",
    "# Print out first 10 untrained model outputs (forward pass)\n",
    "print(\"Logits:\")\n",
    "## Your code here ##\n",
    "\n",
    "print(\"Pred probs:\")\n",
    "## Your code here ##\n",
    "\n",
    "print(\"Pred labels:\")\n",
    "## Your code here ##"
   ]
  },
  {
   "cell_type": "code",
   "execution_count": 21,
   "metadata": {
    "id": "54EqLRKLo0AW",
    "ExecuteTime": {
     "end_time": "2024-03-19T10:44:39.385153Z",
     "start_time": "2024-03-19T10:44:39.370154Z"
    }
   },
   "outputs": [],
   "source": [
    "# Setup loss function and optimizer\n",
    "# loss_fn =\n",
    "# optimizer = "
   ]
  },
  {
   "cell_type": "code",
   "execution_count": 22,
   "metadata": {
    "id": "vIlExkUHnmxi",
    "ExecuteTime": {
     "end_time": "2024-03-19T10:44:39.401155Z",
     "start_time": "2024-03-19T10:44:39.387154Z"
    }
   },
   "outputs": [],
   "source": [
    "# Build a training loop for the model\n",
    "\n",
    "# Loop over data\n",
    "\n",
    "\n",
    "  ## Training\n",
    "  \n",
    "  # 1. Forward pass\n",
    "  \n",
    "\n",
    "  # 2. Calculate the loss\n",
    "  \n",
    "  \n",
    "  # 3. Optimizer zero grad\n",
    "  \n",
    "\n",
    "  # 4. Loss backward\n",
    "  \n",
    "\n",
    "  # 5. Optimizer step\n",
    "  \n",
    "\n",
    "  ## Testing\n",
    "  \n",
    "\n",
    "    # 1. Forward pass\n",
    "    \n",
    "    # 2. Calculate loss and acc\n",
    "    \n",
    "  # Print out what's happening every 100 epochs\n",
    "  "
   ]
  },
  {
   "cell_type": "code",
   "execution_count": 23,
   "metadata": {
    "id": "JrwVRbaE0keT",
    "ExecuteTime": {
     "end_time": "2024-03-19T10:44:39.417153Z",
     "start_time": "2024-03-19T10:44:39.403157Z"
    }
   },
   "outputs": [],
   "source": [
    "# Plot decision boundaries for training and test sets\n"
   ]
  }
 ],
 "metadata": {
  "accelerator": "GPU",
  "colab": {
   "authorship_tag": "ABX9TyNloicnciRwCXd2bJo6F2iS",
   "collapsed_sections": [],
   "include_colab_link": true,
   "name": "02_pytorch_classification_exercises.ipynb",
   "provenance": []
  },
  "kernelspec": {
   "display_name": "Python 3 (ipykernel)",
   "language": "python",
   "name": "python3"
  },
  "language_info": {
   "codemirror_mode": {
    "name": "ipython",
    "version": 3
   },
   "file_extension": ".py",
   "mimetype": "text/x-python",
   "name": "python",
   "nbconvert_exporter": "python",
   "pygments_lexer": "ipython3",
   "version": "3.9.16"
  }
 },
 "nbformat": 4,
 "nbformat_minor": 4
}
